{
 "cells": [
  {
   "cell_type": "markdown",
   "id": "c3a71ead",
   "metadata": {},
   "source": [
    "# Supply Chain Analytics Notebook\n",
    "\n",
    "This notebook demonstrates how to analyze supply chain data using **Python** and **SQL**. We'll calculate KPIs like average lead time and total orders per product, and then visualize results."
   ]
  },
  {
   "cell_type": "code",
   "execution_count": null,
   "id": "e8fafa1a",
   "metadata": {},
   "outputs": [],
   "source": [
    "\n",
    "import pandas as pd\n",
    "import sqlite3\n",
    "import matplotlib.pyplot as plt\n"
   ]
  },
  {
   "cell_type": "code",
   "execution_count": null,
   "id": "06d76d70",
   "metadata": {},
   "outputs": [],
   "source": [
    "\n",
    "# STEP 1: Load dataset\n",
    "orders = pd.read_csv(\"../data/sample_orders.csv\")\n",
    "orders.head()\n"
   ]
  },
  {
   "cell_type": "code",
   "execution_count": null,
   "id": "d77b9de1",
   "metadata": {},
   "outputs": [],
   "source": [
    "\n",
    "# STEP 2: Create SQL database and load table\n",
    "conn = sqlite3.connect(\"supply_chain.db\")\n",
    "orders.to_sql(\"orders\", conn, if_exists=\"replace\", index=False)\n"
   ]
  },
  {
   "cell_type": "code",
   "execution_count": null,
   "id": "e76d613a",
   "metadata": {},
   "outputs": [],
   "source": [
    "\n",
    "# STEP 3: Run SQL query to calculate KPIs\n",
    "query = \"\"\"\n",
    "SELECT product_id,\n",
    "       COUNT(order_id) as total_orders,\n",
    "       AVG(lead_time_days) as avg_lead_time\n",
    "FROM orders\n",
    "GROUP BY product_id\n",
    "ORDER BY total_orders DESC\n",
    "\"\"\"\n",
    "\n",
    "results = pd.read_sql(query, conn)\n",
    "results\n"
   ]
  },
  {
   "cell_type": "code",
   "execution_count": null,
   "id": "00371e6b",
   "metadata": {},
   "outputs": [],
   "source": [
    "\n",
    "# STEP 4: Visualization of KPI results\n",
    "results.plot(x=\"product_id\", y=\"avg_lead_time\", kind=\"bar\", legend=False)\n",
    "plt.title(\"Average Lead Time by Product\")\n",
    "plt.ylabel(\"Days\")\n",
    "plt.xlabel(\"Product\")\n",
    "plt.show()\n"
   ]
  }
 ],
 "metadata": {},
 "nbformat": 4,
 "nbformat_minor": 5
}
